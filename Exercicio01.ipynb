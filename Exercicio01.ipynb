{
  "nbformat": 4,
  "nbformat_minor": 0,
  "metadata": {
    "colab": {
      "provenance": [],
      "include_colab_link": true
    },
    "kernelspec": {
      "name": "python3",
      "display_name": "Python 3"
    },
    "language_info": {
      "name": "python"
    }
  },
  "cells": [
    {
      "cell_type": "markdown",
      "metadata": {
        "id": "view-in-github",
        "colab_type": "text"
      },
      "source": [
        "<a href=\"https://colab.research.google.com/github/Bia-byte/Lista-2/blob/main/Exercicio01.ipynb\" target=\"_parent\"><img src=\"https://colab.research.google.com/assets/colab-badge.svg\" alt=\"Open In Colab\"/></a>"
      ]
    },
    {
      "cell_type": "code",
      "execution_count": 1,
      "metadata": {
        "colab": {
          "base_uri": "https://localhost:8080/"
        },
        "id": "M406KP1QJzad",
        "outputId": "2c571c08-3c88-4718-eae6-c6c43888108c"
      },
      "outputs": [
        {
          "output_type": "stream",
          "name": "stdout",
          "text": [
            "Requirement already satisfied: numpy in /usr/local/lib/python3.11/dist-packages (2.0.2)\n",
            "Requirement already satisfied: matplotlib in /usr/local/lib/python3.11/dist-packages (3.10.0)\n",
            "Requirement already satisfied: contourpy>=1.0.1 in /usr/local/lib/python3.11/dist-packages (from matplotlib) (1.3.1)\n",
            "Requirement already satisfied: cycler>=0.10 in /usr/local/lib/python3.11/dist-packages (from matplotlib) (0.12.1)\n",
            "Requirement already satisfied: fonttools>=4.22.0 in /usr/local/lib/python3.11/dist-packages (from matplotlib) (4.57.0)\n",
            "Requirement already satisfied: kiwisolver>=1.3.1 in /usr/local/lib/python3.11/dist-packages (from matplotlib) (1.4.8)\n",
            "Requirement already satisfied: numpy>=1.23 in /usr/local/lib/python3.11/dist-packages (from matplotlib) (2.0.2)\n",
            "Requirement already satisfied: packaging>=20.0 in /usr/local/lib/python3.11/dist-packages (from matplotlib) (24.2)\n",
            "Requirement already satisfied: pillow>=8 in /usr/local/lib/python3.11/dist-packages (from matplotlib) (11.1.0)\n",
            "Requirement already satisfied: pyparsing>=2.3.1 in /usr/local/lib/python3.11/dist-packages (from matplotlib) (3.2.3)\n",
            "Requirement already satisfied: python-dateutil>=2.7 in /usr/local/lib/python3.11/dist-packages (from matplotlib) (2.8.2)\n",
            "Requirement already satisfied: six>=1.5 in /usr/local/lib/python3.11/dist-packages (from python-dateutil>=2.7->matplotlib) (1.17.0)\n"
          ]
        }
      ],
      "source": [
        "!pip install numpy\n",
        "!pip install matplotlib\n"
      ]
    },
    {
      "cell_type": "code",
      "source": [
        "# Exercicio 1\n",
        "\n",
        "import numpy as np\n",
        "\n",
        "N = 100000                  # Número de simulações\n",
        "sucessos_sem_reposicao = 0  # inicialização do contador para ver quantos sucessos (1 azul + 1 roxa) teve sem reposição\n",
        "sucessos_com_reposicao = 0  # inicialização do contador para ver quantos sucessos (1 azul + 1 roxa) teve com reposição\n",
        "\n",
        "# Definição das bolas no chapéu\n",
        "bolas = np.array(['vermelha'] * 10 + ['azul'] * 10 + ['amarela'] * 10 + ['roxa'] * 10)\n",
        "\n",
        "# Geração de números aleatórios uniformes\n",
        "x = np.random.uniform(0, 1, N)\n",
        "\n",
        "# Simulação de Monte Carlo\n",
        "for i in range(N):\n",
        "    # Simulação SEM reposição (tirar 8 bolas aleatórias replace = False)\n",
        "    sorteio_sem_reposicao = np.random.choice(bolas, 8, replace=False)\n",
        "    if 'azul' in sorteio_sem_reposicao and 'roxa' in sorteio_sem_reposicao:\n",
        "        sucessos_sem_reposicao += 1\n",
        "\n",
        "    # Simulação COM reposição (tirar 8 bolas aleatórias replace = True)\n",
        "    sorteio_com_reposicao = np.random.choice(bolas, 8, replace=True)\n",
        "    if 'azul' in sorteio_com_reposicao and 'roxa' in sorteio_com_reposicao:\n",
        "        sucessos_com_reposicao += 1\n",
        "\n",
        "# Cálculo da probabilidade\n",
        "probabilidade_sem_reposicao = sucessos_sem_reposicao / N\n",
        "probabilidade_com_reposicao = sucessos_com_reposicao / N\n",
        "\n",
        "# Impressão dos resultados\n",
        "print(f\"Probabilidade sem reposição: {probabilidade_sem_reposicao}\")\n",
        "print(f\"Probabilidade com reposição: {probabilidade_com_reposicao}\")"
      ],
      "metadata": {
        "colab": {
          "base_uri": "https://localhost:8080/"
        },
        "id": "HHk5CbcfJ-1C",
        "outputId": "69859bb1-ed53-4588-b4ed-3ee5a10e8f48"
      },
      "execution_count": 3,
      "outputs": [
        {
          "output_type": "stream",
          "name": "stdout",
          "text": [
            "Probabilidade sem reposição: 0.84892\n",
            "Probabilidade com reposição: 0.80489\n"
          ]
        }
      ]
    }
  ]
}