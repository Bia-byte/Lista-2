{
  "nbformat": 4,
  "nbformat_minor": 0,
  "metadata": {
    "colab": {
      "provenance": [],
      "include_colab_link": true
    },
    "kernelspec": {
      "name": "python3",
      "display_name": "Python 3"
    },
    "language_info": {
      "name": "python"
    }
  },
  "cells": [
    {
      "cell_type": "markdown",
      "metadata": {
        "id": "view-in-github",
        "colab_type": "text"
      },
      "source": [
        "<a href=\"https://colab.research.google.com/github/Bia-byte/Lista-2/blob/main/Exercicio_02.ipynb\" target=\"_parent\"><img src=\"https://colab.research.google.com/assets/colab-badge.svg\" alt=\"Open In Colab\"/></a>"
      ]
    },
    {
      "cell_type": "code",
      "source": [
        "!pip install matplotlib\n",
        "import random\n",
        "import numpy as np"
      ],
      "metadata": {
        "colab": {
          "base_uri": "https://localhost:8080/"
        },
        "id": "li0LlhOg4b0P",
        "outputId": "5c6c9215-3774-4907-add8-f23e807a413d"
      },
      "execution_count": 1,
      "outputs": [
        {
          "output_type": "stream",
          "name": "stdout",
          "text": [
            "Requirement already satisfied: matplotlib in /usr/local/lib/python3.11/dist-packages (3.10.0)\n",
            "Requirement already satisfied: contourpy>=1.0.1 in /usr/local/lib/python3.11/dist-packages (from matplotlib) (1.3.1)\n",
            "Requirement already satisfied: cycler>=0.10 in /usr/local/lib/python3.11/dist-packages (from matplotlib) (0.12.1)\n",
            "Requirement already satisfied: fonttools>=4.22.0 in /usr/local/lib/python3.11/dist-packages (from matplotlib) (4.57.0)\n",
            "Requirement already satisfied: kiwisolver>=1.3.1 in /usr/local/lib/python3.11/dist-packages (from matplotlib) (1.4.8)\n",
            "Requirement already satisfied: numpy>=1.23 in /usr/local/lib/python3.11/dist-packages (from matplotlib) (2.0.2)\n",
            "Requirement already satisfied: packaging>=20.0 in /usr/local/lib/python3.11/dist-packages (from matplotlib) (24.2)\n",
            "Requirement already satisfied: pillow>=8 in /usr/local/lib/python3.11/dist-packages (from matplotlib) (11.1.0)\n",
            "Requirement already satisfied: pyparsing>=2.3.1 in /usr/local/lib/python3.11/dist-packages (from matplotlib) (3.2.3)\n",
            "Requirement already satisfied: python-dateutil>=2.7 in /usr/local/lib/python3.11/dist-packages (from matplotlib) (2.8.2)\n",
            "Requirement already satisfied: six>=1.5 in /usr/local/lib/python3.11/dist-packages (from python-dateutil>=2.7->matplotlib) (1.17.0)\n"
          ]
        }
      ]
    },
    {
      "cell_type": "code",
      "execution_count": 4,
      "metadata": {
        "colab": {
          "base_uri": "https://localhost:8080/"
        },
        "id": "88SFJ3ii4QUr",
        "outputId": "4d1aa969-7bfe-426f-ec05-7a7e8ae431a1"
      },
      "outputs": [
        {
          "output_type": "stream",
          "name": "stdout",
          "text": [
            "Probabilidade da soma ser igual ou maior que 10: 0.16821\n"
          ]
        }
      ],
      "source": [
        "# Exercicio 2\n",
        "\n",
        "import numpy as np\n",
        "\n",
        "N = 100000    # Número de simulações\n",
        "sucessos = 0  # Inicializa o contador de sucessos\n",
        "\n",
        "# Simulação de Monte Carlo\n",
        "for _ in range(N):\n",
        "    # Lança os dois dados (números aleatórios entre 1 e 6)\n",
        "    dado1 = np.random.randint(1, 7)\n",
        "    dado2 = np.random.randint(1, 7)\n",
        "\n",
        "    # Calcula a soma dos dados\n",
        "    soma = dado1 + dado2\n",
        "\n",
        "    # Verifica se a soma é igual ou maior que 10\n",
        "    if soma >= 10:\n",
        "        sucessos += 1\n",
        "\n",
        "# Calcula a probabilidade\n",
        "probabilidade = sucessos / N\n",
        "\n",
        "# Imprime o resultado\n",
        "print(f\"Probabilidade da soma ser igual ou maior que 10: {probabilidade}\")"
      ]
    }
  ]
}