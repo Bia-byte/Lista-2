{
  "nbformat": 4,
  "nbformat_minor": 0,
  "metadata": {
    "colab": {
      "provenance": [],
      "include_colab_link": true
    },
    "kernelspec": {
      "name": "python3",
      "display_name": "Python 3"
    },
    "language_info": {
      "name": "python"
    }
  },
  "cells": [
    {
      "cell_type": "markdown",
      "metadata": {
        "id": "view-in-github",
        "colab_type": "text"
      },
      "source": [
        "<a href=\"https://colab.research.google.com/github/Bia-byte/Lista-2/blob/main/Exercicio_03.ipynb\" target=\"_parent\"><img src=\"https://colab.research.google.com/assets/colab-badge.svg\" alt=\"Open In Colab\"/></a>"
      ]
    },
    {
      "cell_type": "code",
      "source": [
        "import numpy as np\n",
        "import pandas as pd\n",
        "import matplotlib.pyplot as plt\n",
        "import random\n"
      ],
      "metadata": {
        "id": "li0LlhOg4b0P"
      },
      "execution_count": 1,
      "outputs": []
    },
    {
      "cell_type": "code",
      "source": [
        "# Exercicio 3\n",
        "\n",
        "import numpy as np\n",
        "\n",
        "N = 1000000  # Número de simulações de Monte Carlo\n",
        "\n",
        "# Inicializa a quantidade de ganhos e perdas\n",
        "ganhos = 0\n",
        "perdas = 0\n",
        "\n",
        "# Simulação de Monte Carlo\n",
        "for _ in range(N):\n",
        "    # Lança 4 dados\n",
        "    dados = np.random.randint(1, 7, 4)  # 4 dados, valores entre 1 e 6\n",
        "    soma = np.sum(dados)  # Soma dos valores dos 4 dados\n",
        "\n",
        "    if soma < 12:\n",
        "        ganhos += 20  # Ganha 20 reais\n",
        "    else:\n",
        "        perdas += 1  # Perde 1 real\n",
        "\n",
        "# Probabilidade de ganhar\n",
        "prob_ganhar = (ganhos / N) / 20  # Probabilidade de ganhar (ganho de 20 reais)\n",
        "# Probabilidade de perder\n",
        "prob_perder = perdas / N  # Probabilidade de perder (perda de 1 real)\n",
        "\n",
        "# Valor esperado\n",
        "valor_esperado = prob_ganhar * 20 - prob_perder * 1\n",
        "\n",
        "# Exibindo os resultados\n",
        "print(f\"Probabilidade de ganhar: {prob_ganhar:.4f}\")\n",
        "print(f\"Probabilidade de perder: {prob_perder:.4f}\")\n",
        "print(f\"Valor esperado do jogo: {valor_esperado:.2f} reais\")\n",
        "\n",
        "# Análise do jogo\n",
        "if valor_esperado > 0:\n",
        "    print(\"LUCRO\")\n",
        "elif valor_esperado < 0:\n",
        "    print(\"PREJUÍZO\")\n",
        "else:\n",
        "    print(\"SEM LUCRO OU PREJUÍZO\")\n"
      ],
      "metadata": {
        "colab": {
          "base_uri": "https://localhost:8080/"
        },
        "id": "aMpKi5nA-Ntl",
        "outputId": "49041c4f-bc3d-4fdc-a73f-8775bda09af4"
      },
      "execution_count": 15,
      "outputs": [
        {
          "output_type": "stream",
          "name": "stdout",
          "text": [
            "Probabilidade de ganhar: 0.2394\n",
            "Probabilidade de perder: 0.7606\n",
            "Valor esperado do jogo: 4.03 reais\n",
            "LUCRO\n"
          ]
        }
      ]
    }
  ]
}