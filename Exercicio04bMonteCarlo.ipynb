{
  "nbformat": 4,
  "nbformat_minor": 0,
  "metadata": {
    "colab": {
      "provenance": [],
      "include_colab_link": true
    },
    "kernelspec": {
      "name": "python3",
      "display_name": "Python 3"
    },
    "language_info": {
      "name": "python"
    }
  },
  "cells": [
    {
      "cell_type": "markdown",
      "metadata": {
        "id": "view-in-github",
        "colab_type": "text"
      },
      "source": [
        "<a href=\"https://colab.research.google.com/github/Bia-byte/Lista-2/blob/main/Exercicio04bMonteCarlo.ipynb\" target=\"_parent\"><img src=\"https://colab.research.google.com/assets/colab-badge.svg\" alt=\"Open In Colab\"/></a>"
      ]
    },
    {
      "cell_type": "code",
      "execution_count": 2,
      "metadata": {
        "colab": {
          "base_uri": "https://localhost:8080/"
        },
        "id": "vzw9WQSFJow4",
        "outputId": "5c5030ad-e352-48e5-b997-003d87c2bf45"
      },
      "outputs": [
        {
          "output_type": "stream",
          "name": "stdout",
          "text": [
            "Requirement already satisfied: numpy in /usr/local/lib/python3.11/dist-packages (2.0.2)\n",
            "Requirement already satisfied: matplotlib in /usr/local/lib/python3.11/dist-packages (3.10.0)\n",
            "Requirement already satisfied: contourpy>=1.0.1 in /usr/local/lib/python3.11/dist-packages (from matplotlib) (1.3.1)\n",
            "Requirement already satisfied: cycler>=0.10 in /usr/local/lib/python3.11/dist-packages (from matplotlib) (0.12.1)\n",
            "Requirement already satisfied: fonttools>=4.22.0 in /usr/local/lib/python3.11/dist-packages (from matplotlib) (4.57.0)\n",
            "Requirement already satisfied: kiwisolver>=1.3.1 in /usr/local/lib/python3.11/dist-packages (from matplotlib) (1.4.8)\n",
            "Requirement already satisfied: numpy>=1.23 in /usr/local/lib/python3.11/dist-packages (from matplotlib) (2.0.2)\n",
            "Requirement already satisfied: packaging>=20.0 in /usr/local/lib/python3.11/dist-packages (from matplotlib) (24.2)\n",
            "Requirement already satisfied: pillow>=8 in /usr/local/lib/python3.11/dist-packages (from matplotlib) (11.1.0)\n",
            "Requirement already satisfied: pyparsing>=2.3.1 in /usr/local/lib/python3.11/dist-packages (from matplotlib) (3.2.3)\n",
            "Requirement already satisfied: python-dateutil>=2.7 in /usr/local/lib/python3.11/dist-packages (from matplotlib) (2.8.2)\n",
            "Requirement already satisfied: six>=1.5 in /usr/local/lib/python3.11/dist-packages (from python-dateutil>=2.7->matplotlib) (1.17.0)\n"
          ]
        }
      ],
      "source": [
        "!pip install numpy\n",
        "!pip install matplotlib"
      ]
    },
    {
      "cell_type": "code",
      "source": [
        "import numpy as np\n",
        "import matplotlib.pyplot as plt\n",
        "\n",
        "N=10000\n",
        "y=np.random.uniform(0,1,N)\n",
        "\n",
        "# a = -5  b = 10\n",
        "# y = (x-a)/(b-a), logo x = 15y - 5\n",
        "# dy = dx / (b-a), logo 15dy = dx\n",
        "x = 15*y - 5\n",
        "integral=15*sum(np.exp((x+x**3)))/N\n",
        "print(integral)\n",
        "\n",
        "# OBS: A SAIDA DEU OVERFLOW O overflow porque a função cresce extremamente rápido.\n",
        "# fazendo com que a média divirja\n"
      ],
      "metadata": {
        "colab": {
          "base_uri": "https://localhost:8080/"
        },
        "id": "l6IEaH9QJpk6",
        "outputId": "481c5c88-1b6f-418c-9d8f-c4d5e849b24a"
      },
      "execution_count": 7,
      "outputs": [
        {
          "output_type": "stream",
          "name": "stdout",
          "text": [
            "inf\n"
          ]
        },
        {
          "output_type": "stream",
          "name": "stderr",
          "text": [
            "<ipython-input-7-fbbf08b0c172>:11: RuntimeWarning: overflow encountered in exp\n",
            "  integral=15*sum(np.exp((x+x**3)))/N\n"
          ]
        }
      ]
    },
    {
      "cell_type": "code",
      "source": [
        "# Define the function\n",
        "def f(x):\n",
        "  return np.exp((x + x**3))\n",
        "\n",
        "# Create the x-axis values\n",
        "x = np.linspace(-5, 10, 5)\n",
        "\n",
        "\n",
        "# Plot the function\n",
        "plt.plot(x, f(x))\n",
        "\n",
        "# Fill the area under the curve\n",
        "plt.fill_between(x, f(x), color='lightblue')\n",
        "\n",
        "# Add the label with the area value\n",
        "plt.text(-1, 250,f'Area = {integral:.3f}', fontsize=14)\n",
        "\n",
        "# Add labels and title\n",
        "plt.xlabel('x')\n",
        "plt.ylabel('f(x)')\n",
        "plt.title('Plot of exp((x + x**3)) with Area Label')\n",
        "\n",
        "# Show the plot\n",
        "plt.show()"
      ],
      "metadata": {
        "colab": {
          "base_uri": "https://localhost:8080/",
          "height": 508
        },
        "id": "PTSLzMjalmU0",
        "outputId": "c0858ca3-6569-4d1a-d110-b624cafd909a"
      },
      "execution_count": 9,
      "outputs": [
        {
          "output_type": "stream",
          "name": "stderr",
          "text": [
            "<ipython-input-9-8caf7f73a0fb>:3: RuntimeWarning: overflow encountered in exp\n",
            "  return np.exp((x + x**3))\n"
          ]
        },
        {
          "output_type": "display_data",
          "data": {
            "text/plain": [
              "<Figure size 640x480 with 1 Axes>"
            ],
            "image/png": "[encoded data removed]"
          },
          "metadata": {}
        }
      ]
    }
  ]
}