{
  "nbformat": 4,
  "nbformat_minor": 0,
  "metadata": {
    "colab": {
      "provenance": [],
      "include_colab_link": true
    },
    "kernelspec": {
      "name": "python3",
      "display_name": "Python 3"
    },
    "language_info": {
      "name": "python"
    }
  },
  "cells": [
    {
      "cell_type": "markdown",
      "metadata": {
        "id": "view-in-github",
        "colab_type": "text"
      },
      "source": [
        "<a href=\"https://colab.research.google.com/github/Bia-byte/Lista-2/blob/main/Exercicio4bIMPORTANCIA.ipynb\" target=\"_parent\"><img src=\"https://colab.research.google.com/assets/colab-badge.svg\" alt=\"Open In Colab\"/></a>"
      ]
    },
    {
      "cell_type": "code",
      "execution_count": null,
      "metadata": {
        "colab": {
          "base_uri": "https://localhost:8080/"
        },
        "id": "hIwgY17R5-NF",
        "outputId": "c253a1ef-e255-42bd-cc61-f0fe91a090fe"
      },
      "outputs": [
        {
          "output_type": "stream",
          "name": "stdout",
          "text": [
            "Requirement already satisfied: numpy in /usr/local/lib/python3.11/dist-packages (2.0.2)\n",
            "Requirement already satisfied: matplotlib in /usr/local/lib/python3.11/dist-packages (3.10.0)\n",
            "Requirement already satisfied: contourpy>=1.0.1 in /usr/local/lib/python3.11/dist-packages (from matplotlib) (1.3.1)\n",
            "Requirement already satisfied: cycler>=0.10 in /usr/local/lib/python3.11/dist-packages (from matplotlib) (0.12.1)\n",
            "Requirement already satisfied: fonttools>=4.22.0 in /usr/local/lib/python3.11/dist-packages (from matplotlib) (4.57.0)\n",
            "Requirement already satisfied: kiwisolver>=1.3.1 in /usr/local/lib/python3.11/dist-packages (from matplotlib) (1.4.8)\n",
            "Requirement already satisfied: numpy>=1.23 in /usr/local/lib/python3.11/dist-packages (from matplotlib) (2.0.2)\n",
            "Requirement already satisfied: packaging>=20.0 in /usr/local/lib/python3.11/dist-packages (from matplotlib) (24.2)\n",
            "Requirement already satisfied: pillow>=8 in /usr/local/lib/python3.11/dist-packages (from matplotlib) (11.1.0)\n",
            "Requirement already satisfied: pyparsing>=2.3.1 in /usr/local/lib/python3.11/dist-packages (from matplotlib) (3.2.3)\n",
            "Requirement already satisfied: python-dateutil>=2.7 in /usr/local/lib/python3.11/dist-packages (from matplotlib) (2.8.2)\n",
            "Requirement already satisfied: six>=1.5 in /usr/local/lib/python3.11/dist-packages (from python-dateutil>=2.7->matplotlib) (1.17.0)\n"
          ]
        }
      ],
      "source": [
        "!pip install numpy\n",
        "!pip install matplotlib"
      ]
    },
    {
      "cell_type": "code",
      "source": [
        "import numpy as np\n",
        "import matplotlib.pyplot as plt\n",
        "\n",
        "N = 1000000\n",
        "y = np.random.uniform(0, 1, N)\n",
        "\n",
        "# Constante de normalização A\n",
        "A = 1 / (np.exp(11) - np.exp(-4))  # ∫ e^{x+1} dx de -5 a 10\n",
        "\n",
        "# Amostras de g(x)\n",
        "x = np.log(y / (A * np.exp(1)) + np.exp(-5))\n",
        "\n",
        "# Função f(x) = e^{x + x^3}\n",
        "f = np.exp(x + x**3)\n",
        "\n",
        "# Função g(x) = A * e^{x+1}\n",
        "g = A * np.exp(x + 1)\n",
        "\n",
        "# Estimativa da integral por importância\n",
        "integral = np.mean(f / g)\n",
        "print(f'Integral estimada ≈ {integral:.4e}')\n",
        "\n",
        "# Gráfico\n",
        "x_plot = np.linspace(-5, 10, 1000)\n",
        "plt.plot(x_plot, np.exp(x_plot + x_plot**3), label='f(x) = $e^{x + x^3}$')\n",
        "plt.fill_between(x_plot, np.exp(x_plot + x_plot**3), alpha=0.3)\n",
        "plt.title('Método da Importância - $f(x) = e^{x + x^3}$')\n",
        "plt.xlabel('x')\n",
        "plt.ylabel('f(x)')\n",
        "plt.legend()\n",
        "plt.show()\n"
      ],
      "metadata": {
        "colab": {
          "base_uri": "https://localhost:8080/",
          "height": 642
        },
        "id": "vMI9NhpB5-4K",
        "outputId": "fdf7b8ad-e849-49af-8096-1b5ac32f5a7b"
      },
      "execution_count": null,
      "outputs": [
        {
          "output_type": "stream",
          "name": "stderr",
          "text": [
            "<ipython-input-9-437e2f59115d>:14: RuntimeWarning: overflow encountered in exp\n",
            "  f = np.exp(x + x**3)\n",
            "<ipython-input-9-437e2f59115d>:20: RuntimeWarning: overflow encountered in divide\n",
            "  integral = np.mean(f / g)\n",
            "<ipython-input-9-437e2f59115d>:25: RuntimeWarning: overflow encountered in exp\n",
            "  plt.plot(x_plot, np.exp(x_plot + x_plot**3), label='f(x) = $e^{x + x^3}$')\n",
            "<ipython-input-9-437e2f59115d>:26: RuntimeWarning: overflow encountered in exp\n",
            "  plt.fill_between(x_plot, np.exp(x_plot + x_plot**3), alpha=0.3)\n"
          ]
        },
        {
          "output_type": "stream",
          "name": "stdout",
          "text": [
            "Integral estimada ≈ inf\n"
          ]
        },
        {
          "output_type": "display_data",
          "data": {
            "text/plain": [
              "<Figure size 640x480 with 1 Axes>"
            ],
            "image/png": "[encoded data removed]"
          },
          "metadata": {}
        }
      ]
    }
  ]
}